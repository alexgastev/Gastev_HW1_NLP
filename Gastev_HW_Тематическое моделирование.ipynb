{
 "cells": [
  {
   "cell_type": "code",
   "execution_count": 1,
   "metadata": {
    "id": "h1dvK7H_qauH"
   },
   "outputs": [],
   "source": [
    "import json\n",
    "\n",
    "import bz2\n",
    "import regex\n",
    "from tqdm import tqdm\n",
    "from scipy import sparse"
   ]
  },
  {
   "cell_type": "code",
   "execution_count": 2,
   "metadata": {
    "id": "_ZsoxOinqauK",
    "outputId": "1b349b33-f266-404a-fa55-4088784d8897"
   },
   "outputs": [
    {
     "name": "stdout",
     "output_type": "stream",
     "text": [
      "%pylab is deprecated, use %matplotlib inline and import the required libraries.\n",
      "Populating the interactive namespace from numpy and matplotlib\n"
     ]
    }
   ],
   "source": [
    "import pandas as pd\n",
    "import numpy as np\n",
    "import nltk\n",
    "import matplotlib.pyplot as plt\n",
    "import seaborn as sns\n",
    "%matplotlib inline\n",
    "%pylab inline"
   ]
  },
  {
   "cell_type": "code",
   "execution_count": 3,
   "metadata": {
    "id": "UNHVsbPnqauL",
    "outputId": "e8d7d7f4-576b-4846-b06a-f3b4a08adb95",
    "scrolled": true
   },
   "outputs": [
    {
     "name": "stderr",
     "output_type": "stream",
     "text": [
      "201030it [01:19, 2520.01it/s]\n"
     ]
    }
   ],
   "source": [
    "responses = []\n",
    "with bz2.BZ2File('banki_responses.json.bz2', 'r') as thefile:\n",
    "    for row in tqdm(thefile):\n",
    "        resp = json.loads(row)\n",
    "        if not resp['rating_not_checked'] and (len(resp['text'].split()) > 0):\n",
    "            responses.append(resp)"
   ]
  },
  {
   "cell_type": "markdown",
   "metadata": {
    "id": "F0ixYxfSqauM"
   },
   "source": [
    "\n",
    "Посмотрим на пример отзыва:"
   ]
  },
  {
   "cell_type": "code",
   "execution_count": 4,
   "metadata": {
    "id": "Dd7m6GpMqauP",
    "outputId": "975085c3-9f8c-4a64-ac12-747ffab282ce"
   },
   "outputs": [
    {
     "data": {
      "text/plain": [
       "{'city': 'г. Саратов',\n",
       " 'rating_not_checked': False,\n",
       " 'title': 'Карта ко вкладу',\n",
       " 'num_comments': 0,\n",
       " 'bank_license': 'лицензия № 880',\n",
       " 'author': 'ronnichka',\n",
       " 'bank_name': 'Югра',\n",
       " 'datetime': '2015-06-03 20:56:57',\n",
       " 'text': 'Здравствуйте! Хотела написать, что мне месяц не выдают карту ко вкладу, ссылаясь на \"нам же их из Самары везут\" (на секундочку 5 часов езды от нашего города). Но! Прочитала, что людям 3,5 месяцев не выдают карту, и поняла, что у меня все хорошо, пока что. И подарок мне дали, и кулер в отделении есть. Так что я, конечно, готова ждать. Правда хотелось бы не очень долго.',\n",
       " 'rating_grade': 3}"
      ]
     },
     "execution_count": 4,
     "metadata": {},
     "output_type": "execute_result"
    }
   ],
   "source": [
    "responses[99]"
   ]
  },
  {
   "cell_type": "markdown",
   "metadata": {},
   "source": [
    "## Анализ текстов"
   ]
  },
  {
   "cell_type": "markdown",
   "metadata": {},
   "source": [
    "**1. Посчитайте количество отзывов в разных городах и на разные банки**"
   ]
  },
  {
   "cell_type": "code",
   "execution_count": 5,
   "metadata": {},
   "outputs": [],
   "source": [
    "df = pd.DataFrame(responses)"
   ]
  },
  {
   "cell_type": "code",
   "execution_count": 6,
   "metadata": {},
   "outputs": [
    {
     "data": {
      "text/html": [
       "<div>\n",
       "<style scoped>\n",
       "    .dataframe tbody tr th:only-of-type {\n",
       "        vertical-align: middle;\n",
       "    }\n",
       "\n",
       "    .dataframe tbody tr th {\n",
       "        vertical-align: top;\n",
       "    }\n",
       "\n",
       "    .dataframe thead th {\n",
       "        text-align: right;\n",
       "    }\n",
       "</style>\n",
       "<table border=\"1\" class=\"dataframe\">\n",
       "  <thead>\n",
       "    <tr style=\"text-align: right;\">\n",
       "      <th></th>\n",
       "      <th>city</th>\n",
       "      <th>rating_not_checked</th>\n",
       "      <th>title</th>\n",
       "      <th>num_comments</th>\n",
       "      <th>bank_license</th>\n",
       "      <th>author</th>\n",
       "      <th>bank_name</th>\n",
       "      <th>datetime</th>\n",
       "      <th>text</th>\n",
       "      <th>rating_grade</th>\n",
       "    </tr>\n",
       "  </thead>\n",
       "  <tbody>\n",
       "    <tr>\n",
       "      <th>0</th>\n",
       "      <td>г. Москва</td>\n",
       "      <td>False</td>\n",
       "      <td>Жалоба</td>\n",
       "      <td>0</td>\n",
       "      <td>лицензия № 2562</td>\n",
       "      <td>uhnov1</td>\n",
       "      <td>Бинбанк</td>\n",
       "      <td>2015-06-08 12:50:54</td>\n",
       "      <td>Добрый день! Я не являюсь клиентом банка и пор...</td>\n",
       "      <td>NaN</td>\n",
       "    </tr>\n",
       "    <tr>\n",
       "      <th>1</th>\n",
       "      <td>г. Новосибирск</td>\n",
       "      <td>False</td>\n",
       "      <td>Не могу пользоваться услугой Сбербанк он-лайн</td>\n",
       "      <td>0</td>\n",
       "      <td>лицензия № 1481</td>\n",
       "      <td>Foryou</td>\n",
       "      <td>Сбербанк России</td>\n",
       "      <td>2015-06-08 11:09:57</td>\n",
       "      <td>Доброго дня! Являюсь держателем зарплатной кар...</td>\n",
       "      <td>NaN</td>\n",
       "    </tr>\n",
       "    <tr>\n",
       "      <th>2</th>\n",
       "      <td>г. Москва</td>\n",
       "      <td>False</td>\n",
       "      <td>Двойное списание за один товар.</td>\n",
       "      <td>1</td>\n",
       "      <td>лицензия № 2562</td>\n",
       "      <td>Vladimir84</td>\n",
       "      <td>Бинбанк</td>\n",
       "      <td>2015-06-05 20:14:28</td>\n",
       "      <td>Здравствуйте!  Дублирую свое заявление от 03.0...</td>\n",
       "      <td>NaN</td>\n",
       "    </tr>\n",
       "    <tr>\n",
       "      <th>3</th>\n",
       "      <td>г. Ставрополь</td>\n",
       "      <td>False</td>\n",
       "      <td>Меняют проценты комиссии  не предупредив и не ...</td>\n",
       "      <td>2</td>\n",
       "      <td>лицензия № 1481</td>\n",
       "      <td>643609</td>\n",
       "      <td>Сбербанк России</td>\n",
       "      <td>2015-06-05 13:51:01</td>\n",
       "      <td>Добрый день!! Я открыл расчетный счет в СберБа...</td>\n",
       "      <td>NaN</td>\n",
       "    </tr>\n",
       "    <tr>\n",
       "      <th>4</th>\n",
       "      <td>г. Челябинск</td>\n",
       "      <td>False</td>\n",
       "      <td>Верните денежные средства за страховку</td>\n",
       "      <td>1</td>\n",
       "      <td>лицензия № 2766</td>\n",
       "      <td>anfisa-2003</td>\n",
       "      <td>ОТП Банк</td>\n",
       "      <td>2015-06-05 10:58:12</td>\n",
       "      <td>04.03.2015 г. взяла кредит в вашем банке, заяв...</td>\n",
       "      <td>NaN</td>\n",
       "    </tr>\n",
       "  </tbody>\n",
       "</table>\n",
       "</div>"
      ],
      "text/plain": [
       "             city  rating_not_checked  \\\n",
       "0       г. Москва               False   \n",
       "1  г. Новосибирск               False   \n",
       "2       г. Москва               False   \n",
       "3   г. Ставрополь               False   \n",
       "4    г. Челябинск               False   \n",
       "\n",
       "                                               title  num_comments  \\\n",
       "0                                             Жалоба             0   \n",
       "1      Не могу пользоваться услугой Сбербанк он-лайн             0   \n",
       "2                    Двойное списание за один товар.             1   \n",
       "3  Меняют проценты комиссии  не предупредив и не ...             2   \n",
       "4             Верните денежные средства за страховку             1   \n",
       "\n",
       "      bank_license       author        bank_name             datetime  \\\n",
       "0  лицензия № 2562       uhnov1          Бинбанк  2015-06-08 12:50:54   \n",
       "1  лицензия № 1481       Foryou  Сбербанк России  2015-06-08 11:09:57   \n",
       "2  лицензия № 2562   Vladimir84          Бинбанк  2015-06-05 20:14:28   \n",
       "3  лицензия № 1481       643609  Сбербанк России  2015-06-05 13:51:01   \n",
       "4  лицензия № 2766  anfisa-2003         ОТП Банк  2015-06-05 10:58:12   \n",
       "\n",
       "                                                text  rating_grade  \n",
       "0  Добрый день! Я не являюсь клиентом банка и пор...           NaN  \n",
       "1  Доброго дня! Являюсь держателем зарплатной кар...           NaN  \n",
       "2  Здравствуйте!  Дублирую свое заявление от 03.0...           NaN  \n",
       "3  Добрый день!! Я открыл расчетный счет в СберБа...           NaN  \n",
       "4  04.03.2015 г. взяла кредит в вашем банке, заяв...           NaN  "
      ]
     },
     "execution_count": 6,
     "metadata": {},
     "output_type": "execute_result"
    }
   ],
   "source": [
    "df.head()"
   ]
  },
  {
   "cell_type": "code",
   "execution_count": 7,
   "metadata": {},
   "outputs": [
    {
     "name": "stdout",
     "output_type": "stream",
     "text": [
      "Количество отзывов в разных городах:\n"
     ]
    },
    {
     "data": {
      "text/plain": [
       "г. Москва                               55354\n",
       "г. Санкт-Петербург                      14342\n",
       "г. Екатеринбург                          2337\n",
       "г. Новосибирск                           2300\n",
       "г. Нижний Новгород                       1976\n",
       "                                        ...  \n",
       "г. г.Калуга                                 1\n",
       "г. ВЕЛИКИЕ ЛУКИ                             1\n",
       "г. всеволожск                               1\n",
       "г. сейчас                                   1\n",
       "г. Краснодарский край, ст.Павловская        1\n",
       "Name: city, Length: 5823, dtype: int64"
      ]
     },
     "execution_count": 7,
     "metadata": {},
     "output_type": "execute_result"
    }
   ],
   "source": [
    "print('Количество отзывов в разных городах:')\n",
    "df['city'].value_counts()"
   ]
  },
  {
   "cell_type": "code",
   "execution_count": 17,
   "metadata": {},
   "outputs": [
    {
     "data": {
      "text/plain": [
       "Сбербанк России     26327\n",
       "Альфа-Банк          10224\n",
       "ВТБ 24               8185\n",
       "Русский Стандарт     7943\n",
       "Хоум Кредит Банк     7549\n",
       "                    ...  \n",
       "Сиббизнесбанк           1\n",
       "Донбанк                 1\n",
       "Потенциал               1\n",
       "Ури Банк                1\n",
       "БайкалИнвестБанк        1\n",
       "Name: bank_name, Length: 670, dtype: int64"
      ]
     },
     "execution_count": 17,
     "metadata": {},
     "output_type": "execute_result"
    }
   ],
   "source": [
    "df['bank_name'].value_counts()"
   ]
  },
  {
   "cell_type": "markdown",
   "metadata": {},
   "source": [
    "**2. Постройте гистограмы длин слов в символах и в словах**"
   ]
  },
  {
   "cell_type": "code",
   "execution_count": 6,
   "metadata": {},
   "outputs": [
    {
     "name": "stderr",
     "output_type": "stream",
     "text": [
      "[nltk_data] Downloading package punkt to\n",
      "[nltk_data]     C:\\Users\\alexg\\AppData\\Roaming\\nltk_data...\n",
      "[nltk_data]   Package punkt is already up-to-date!\n"
     ]
    },
    {
     "data": {
      "text/plain": [
       "True"
      ]
     },
     "execution_count": 6,
     "metadata": {},
     "output_type": "execute_result"
    }
   ],
   "source": [
    "import nltk\n",
    "nltk.download('punkt')"
   ]
  },
  {
   "cell_type": "code",
   "execution_count": 9,
   "metadata": {},
   "outputs": [],
   "source": [
    "df['tokens'] = df['text'].apply(lambda x: nltk.tokenize.word_tokenize(x))"
   ]
  },
  {
   "cell_type": "code",
   "execution_count": 10,
   "metadata": {},
   "outputs": [],
   "source": [
    "df['words_length'] = df['tokens'].apply(len)"
   ]
  },
  {
   "cell_type": "code",
   "execution_count": 11,
   "metadata": {},
   "outputs": [],
   "source": [
    "df['symbols_length'] = df['text'].apply(len)"
   ]
  },
  {
   "cell_type": "code",
   "execution_count": 12,
   "metadata": {},
   "outputs": [
    {
     "data": {
      "text/plain": [
       "<AxesSubplot:xlabel='words_length', ylabel='Count'>"
      ]
     },
     "execution_count": 12,
     "metadata": {},
     "output_type": "execute_result"
    },
    {
     "data": {
      "image/png": "[encoded data removed]",
      "text/plain": [
       "<Figure size 720x288 with 1 Axes>"
      ]
     },
     "metadata": {
      "needs_background": "light"
     },
     "output_type": "display_data"
    }
   ],
   "source": [
    "# гистограмма по словам\n",
    "plt.figure(figsize=(10,4))\n",
    "sns.histplot(df['words_length'], bins=100)"
   ]
  },
  {
   "cell_type": "code",
   "execution_count": 13,
   "metadata": {},
   "outputs": [
    {
     "data": {
      "text/plain": [
       "<AxesSubplot:xlabel='symbols_length', ylabel='Count'>"
      ]
     },
     "execution_count": 13,
     "metadata": {},
     "output_type": "execute_result"
    },
    {
     "data": {
      "image/png": "[encoded data removed]",
      "text/plain": [
       "<Figure size 450x450 with 1 Axes>"
      ]
     },
     "metadata": {
      "needs_background": "light"
     },
     "output_type": "display_data"
    }
   ],
   "source": [
    "# гистограмма по символам\n",
    "plt.figure(figsize=(3,3), dpi=150)\n",
    "sns.histplot(df['symbols_length'], bins=200)"
   ]
  },
  {
   "cell_type": "markdown",
   "metadata": {},
   "source": [
    "**3. Найдите 10 самых частых:\n",
    "слов;\n",
    "слов без стоп-слов;\n",
    "лемм;\n",
    "существительных**"
   ]
  },
  {
   "cell_type": "code",
   "execution_count": 7,
   "metadata": {},
   "outputs": [
    {
     "data": {
      "text/plain": [
       "'!\"#$%&\\'()*+,-./:;<=>?@[\\\\]^_`{|}~'"
      ]
     },
     "execution_count": 7,
     "metadata": {},
     "output_type": "execute_result"
    }
   ],
   "source": [
    "from string import punctuation\n",
    "punctuation"
   ]
  },
  {
   "cell_type": "markdown",
   "metadata": {},
   "source": [
    "10 самых частых слов:"
   ]
  },
  {
   "cell_type": "code",
   "execution_count": 8,
   "metadata": {},
   "outputs": [],
   "source": [
    "from collections import Counter"
   ]
  },
  {
   "cell_type": "code",
   "execution_count": 15,
   "metadata": {},
   "outputs": [],
   "source": [
    "corpus = [token for x in df.text for token in nltk.tokenize.word_tokenize(x) if token not in punctuation]\n",
    "freq_dict = Counter(corpus)"
   ]
  },
  {
   "cell_type": "code",
   "execution_count": 16,
   "metadata": {},
   "outputs": [],
   "source": [
    "freq_dict = Counter(corpus)"
   ]
  },
  {
   "cell_type": "code",
   "execution_count": 17,
   "metadata": {},
   "outputs": [
    {
     "name": "stdout",
     "output_type": "stream",
     "text": [
      "Самые частые 10 слов: [('в', 1169557), ('и', 980761), ('не', 816419), ('на', 638715), ('что', 603171), ('я', 443478), ('с', 428021), ('по', 338743), ('мне', 293980), ('банка', 235176)]\n"
     ]
    }
   ],
   "source": [
    "print(f'Самые частые 10 слов: {freq_dict.most_common(10)}')"
   ]
  },
  {
   "cell_type": "markdown",
   "metadata": {},
   "source": [
    "10 самых частых слов без стоп-слов:"
   ]
  },
  {
   "cell_type": "code",
   "execution_count": 9,
   "metadata": {},
   "outputs": [
    {
     "name": "stderr",
     "output_type": "stream",
     "text": [
      "[nltk_data] Downloading package stopwords to\n",
      "[nltk_data]     C:\\Users\\alexg\\AppData\\Roaming\\nltk_data...\n",
      "[nltk_data]   Package stopwords is already up-to-date!\n"
     ]
    }
   ],
   "source": [
    "from nltk.corpus import stopwords\n",
    "nltk.download('stopwords')\n",
    "mystopwords = stopwords.words('russian') + list(punctuation) + ['``', \"''\"]"
   ]
  },
  {
   "cell_type": "code",
   "execution_count": 27,
   "metadata": {},
   "outputs": [],
   "source": [
    "# самое частое слово без стоп слов на выборке 10000:\n",
    "corpus2 = [token for x in df.text[:10000] for token in nltk.tokenize.word_tokenize(x) if token not in mystopwords]\n",
    "freq_dict2 = Counter(corpus2)"
   ]
  },
  {
   "cell_type": "code",
   "execution_count": 28,
   "metadata": {},
   "outputs": [
    {
     "name": "stdout",
     "output_type": "stream",
     "text": [
      "Самые частые 10 слов без стоп-слов: [('банка', 14606), ('банк', 10023), ('это', 8795), ('В', 8748), ('Я', 7914), ('деньги', 6548), ('карты', 5866), ('карту', 5447), ('...', 4923), ('день', 4630)]\n"
     ]
    }
   ],
   "source": [
    "print(f'Самые частые 10 слов без стоп-слов: {freq_dict2.most_common(10)}')"
   ]
  },
  {
   "cell_type": "markdown",
   "metadata": {},
   "source": [
    "10 самых частых лемм:"
   ]
  },
  {
   "cell_type": "code",
   "execution_count": 10,
   "metadata": {},
   "outputs": [
    {
     "name": "stdout",
     "output_type": "stream",
     "text": [
      "Requirement already satisfied: pymorphy2 in c:\\users\\alexg\\anaconda3\\lib\\site-packages (0.9.1)\n",
      "Requirement already satisfied: pymorphy2-dicts-ru<3.0,>=2.4 in c:\\users\\alexg\\anaconda3\\lib\\site-packages (from pymorphy2) (2.4.417127.4579844)\n",
      "Requirement already satisfied: dawg-python>=0.7.1 in c:\\users\\alexg\\anaconda3\\lib\\site-packages (from pymorphy2) (0.7.2)\n",
      "Requirement already satisfied: docopt>=0.6 in c:\\users\\alexg\\anaconda3\\lib\\site-packages (from pymorphy2) (0.6.2)\n"
     ]
    }
   ],
   "source": [
    "!pip install pymorphy2"
   ]
  },
  {
   "cell_type": "code",
   "execution_count": 11,
   "metadata": {},
   "outputs": [],
   "source": [
    "from pymorphy2 import MorphAnalyzer\n",
    "pymorphy2_analyzer = MorphAnalyzer()"
   ]
  },
  {
   "cell_type": "code",
   "execution_count": 12,
   "metadata": {},
   "outputs": [],
   "source": [
    "def lemmatize(text):\n",
    "    tokens = nltk.tokenize.word_tokenize(text)\n",
    "    for i, token in enumerate(tokens):\n",
    "        tokens[i] = pymorphy2_analyzer.parse(token)[0].normal_form\n",
    "    return tokens"
   ]
  },
  {
   "cell_type": "code",
   "execution_count": 24,
   "metadata": {},
   "outputs": [],
   "source": [
    "# 10 самых частых лемм на выборке 10000:\n",
    "corpus3 = [token for x in df.text[:10000] for token in lemmatize(x) if token not in mystopwords]\n",
    "freq_dict3 = Counter(corpus3)"
   ]
  },
  {
   "cell_type": "code",
   "execution_count": 25,
   "metadata": {},
   "outputs": [
    {
     "name": "stdout",
     "output_type": "stream",
     "text": [
      "Самые частые 10 лемм: [('банк', 39257), ('карта', 18714), ('это', 17112), ('``', 11910), (\"''\", 11842), ('день', 10004), ('всё', 9834), ('кредит', 9710), ('деньга', 9480), ('сотрудник', 9347)]\n"
     ]
    }
   ],
   "source": [
    "print(f'Самые частые 10 лемм: {freq_dict3.most_common(10)}')"
   ]
  },
  {
   "cell_type": "markdown",
   "metadata": {},
   "source": [
    "Комментарии по результатам: в перечень самых частых слов попали в т.ч. символы, которых не было в пунктуации, часть из них убраны и самые частые 10 слов без стоп-слов определены без них, но в леммах не убраны, т.к. время выполнения очень длительное даже на выборке 10000"
   ]
  },
  {
   "cell_type": "markdown",
   "metadata": {},
   "source": [
    "10 самых частых существительных:"
   ]
  },
  {
   "cell_type": "code",
   "execution_count": 13,
   "metadata": {},
   "outputs": [
    {
     "name": "stderr",
     "output_type": "stream",
     "text": [
      "[nltk_data] Downloading package averaged_perceptron_tagger to\n",
      "[nltk_data]     C:\\Users\\alexg\\AppData\\Roaming\\nltk_data...\n",
      "[nltk_data]   Package averaged_perceptron_tagger is already up-to-\n",
      "[nltk_data]       date!\n"
     ]
    },
    {
     "data": {
      "text/plain": [
       "True"
      ]
     },
     "execution_count": 13,
     "metadata": {},
     "output_type": "execute_result"
    }
   ],
   "source": [
    "nltk.download('averaged_perceptron_tagger')"
   ]
  },
  {
   "cell_type": "code",
   "execution_count": 73,
   "metadata": {},
   "outputs": [
    {
     "name": "stdout",
     "output_type": "stream",
     "text": [
      "10 самых частых существительных\n",
      "банк, карта, это, день, всё, кредит, деньга, сотрудник, который, клиент\n"
     ]
    }
   ],
   "source": [
    "# существительные посчитаем просто по словарю лемм, т.к. самые частые слова там уже указаны. \n",
    "# Если нужны не леммы, то можно посчитать по любому другому словарю, который был создан на предыдущих шагах\n",
    "nouns=[]\n",
    "\n",
    "for i in sorted(freq_dict3.items(), key=lambda x: x[1], reverse=True):\n",
    "    if nltk.pos_tag([i[0]])[0][1] == 'NN':\n",
    "        nouns.append(i[0])\n",
    "    if len(nouns) >= 10:\n",
    "        break\n",
    "\n",
    "print('10 самых частых существительных')\n",
    "print(*mylist, sep=', ' )"
   ]
  },
  {
   "cell_type": "markdown",
   "metadata": {},
   "source": [
    "**4. Постройте кривые Ципфа и Хипса**"
   ]
  },
  {
   "cell_type": "code",
   "execution_count": 76,
   "metadata": {},
   "outputs": [
    {
     "data": {
      "text/plain": [
       "[<matplotlib.lines.Line2D at 0x2427bc4edf0>]"
      ]
     },
     "execution_count": 76,
     "metadata": {},
     "output_type": "execute_result"
    },
    {
     "data": {
      "image/png": "[encoded data removed]",
      "text/plain": [
       "<Figure size 432x288 with 1 Axes>"
      ]
     },
     "metadata": {
      "needs_background": "light"
     },
     "output_type": "display_data"
    }
   ],
   "source": [
    "# Кривую Ципфа строим по самому первому словарю со всеми словами\n",
    "freqs = list(freq_dict.values())\n",
    "freqs = sorted(freqs, reverse = True)\n",
    "\n",
    "fig, ax = plt.subplots()\n",
    "ax.plot(freqs[:300], range(300))"
   ]
  },
  {
   "cell_type": "code",
   "execution_count": 14,
   "metadata": {},
   "outputs": [],
   "source": [
    "from nltk.tokenize import word_tokenize"
   ]
  },
  {
   "cell_type": "code",
   "execution_count": 104,
   "metadata": {},
   "outputs": [
    {
     "name": "stderr",
     "output_type": "stream",
     "text": [
      "100%|███████████████████████████████████████████████████████████████████████████| 10000/10000 [01:33<00:00, 106.55it/s]\n"
     ]
    }
   ],
   "source": [
    "# Кривая Хипса без удаления пунктуации\n",
    "\n",
    "\n",
    "cnt = Counter()\n",
    "n_words = []\n",
    "n_tokens = []\n",
    "tokens = []\n",
    "x = 0\n",
    "for index, row in tqdm(df[:10000].iterrows(), total = len(df[:10000])):\n",
    "    tokens = word_tokenize(row['text'])\n",
    "    cnt.update([token for token in tokens if token not in punctuation])\n",
    "    n_words.append(len(cnt))\n",
    "    temp = []\n",
    "    temp = [i for i in cnt.values()] # почему-то некорректно отрабатывал sum(cnt.values()), пришлось делать через список, поэтмоу только на 10000 строках\n",
    "    n_tokens.append(sum(temp))\n",
    "        "
   ]
  },
  {
   "cell_type": "code",
   "execution_count": 105,
   "metadata": {},
   "outputs": [
    {
     "data": {
      "image/png": "[encoded data removed]",
      "text/plain": [
       "<Figure size 432x288 with 1 Axes>"
      ]
     },
     "metadata": {
      "needs_background": "light"
     },
     "output_type": "display_data"
    }
   ],
   "source": [
    "fig, ax = plt.subplots()\n",
    "ax.plot(n_tokens, n_words)\n",
    "plt.show()"
   ]
  },
  {
   "cell_type": "markdown",
   "metadata": {},
   "source": [
    "**5. Ответьте на следующие вопросы:**"
   ]
  },
  {
   "cell_type": "markdown",
   "metadata": {},
   "source": [
    "Какое слово встречается чаще, \"сотрудник\" или \"клиент\"?"
   ]
  },
  {
   "cell_type": "code",
   "execution_count": 106,
   "metadata": {},
   "outputs": [
    {
     "data": {
      "text/plain": [
       "[('банк', 39257),\n",
       " ('карта', 18714),\n",
       " ('это', 17112),\n",
       " ('``', 11910),\n",
       " (\"''\", 11842),\n",
       " ('день', 10004),\n",
       " ('всё', 9834),\n",
       " ('кредит', 9710),\n",
       " ('деньга', 9480),\n",
       " ('сотрудник', 9347)]"
      ]
     },
     "execution_count": 106,
     "metadata": {},
     "output_type": "execute_result"
    }
   ],
   "source": [
    "freq_dict3.most_common(10)"
   ]
  },
  {
   "cell_type": "markdown",
   "metadata": {},
   "source": [
    "Чаще встречается слово \"сотрудник\", т.к. оно входит в 10-ку самых частых слов, а клиент - нет, т.е. встречается реже"
   ]
  },
  {
   "cell_type": "markdown",
   "metadata": {},
   "source": [
    "Сколько раз встречается слова \"мошенничество\" и \"доверие\"?"
   ]
  },
  {
   "cell_type": "code",
   "execution_count": 111,
   "metadata": {},
   "outputs": [
    {
     "name": "stdout",
     "output_type": "stream",
     "text": [
      "мошенничество: 219\n",
      "доверие 151\n"
     ]
    }
   ],
   "source": [
    "print('мошенничество:', freq_dict3['мошенничество'])\n",
    "print('доверие', freq_dict3['доверие'])"
   ]
  },
  {
   "cell_type": "markdown",
   "metadata": {},
   "source": [
    "**6. В поле \"rating_grade\" записана оценка отзыва по шкале от 1 до 5. Используйте меру tf-idf, для того, чтобы найти ключевые слова и биграмы для положительных отзывов (с оценкой 5) и отрицательных отзывов (с оценкой 1)**"
   ]
  },
  {
   "cell_type": "markdown",
   "metadata": {},
   "source": [
    "Попробуем хотя бы немного предобработать (без лемматизации)"
   ]
  },
  {
   "cell_type": "code",
   "execution_count": null,
   "metadata": {},
   "outputs": [],
   "source": [
    "mystopwords = stopwords.words('russian') + [\n",
    "    'это', 'наш' , 'тыс', 'млн', 'млрд', 'также',  'т', 'д',\n",
    "    'который','прошлый','сей', 'свой', 'наш', 'мочь', 'такой'\n",
    "]\n",
    "ru_words = re.compile(\"[А-Яа-я]+\")\n",
    "\n",
    "\n",
    "def words_only(text):\n",
    "    return \" \".join(ru_words.findall(text))\n",
    "\n",
    "\n",
    "def remove_stopwords(text, mystopwords = mystopwords):\n",
    "    try:\n",
    "        return \" \".join([token for token in text.split() if not token in mystopwords])\n",
    "    except:\n",
    "        return \"\"\n",
    "\n",
    "    \n",
    "def preprocess(text):\n",
    "    return remove_stopwords(words_only(text.lower()))"
   ]
  },
  {
   "cell_type": "code",
   "execution_count": null,
   "metadata": {},
   "outputs": [],
   "source": [
    "df.text = df.text.astype('str').apply(preprocess)"
   ]
  },
  {
   "cell_type": "code",
   "execution_count": 15,
   "metadata": {},
   "outputs": [],
   "source": [
    "from sklearn.feature_extraction.text import TfidfVectorizer"
   ]
  },
  {
   "cell_type": "code",
   "execution_count": 63,
   "metadata": {},
   "outputs": [],
   "source": [
    "vec = TfidfVectorizer(ngram_range=(2,2))"
   ]
  },
  {
   "cell_type": "code",
   "execution_count": 64,
   "metadata": {},
   "outputs": [],
   "source": [
    "res1 = vec.fit_transform(df[df['rating_grade']==5]['text'])"
   ]
  },
  {
   "cell_type": "code",
   "execution_count": 65,
   "metadata": {},
   "outputs": [],
   "source": [
    "# для ключевых слов\n",
    "vectorizer = TfidfVectorizer(ngram_range=(1,1))"
   ]
  },
  {
   "cell_type": "code",
   "execution_count": 66,
   "metadata": {},
   "outputs": [],
   "source": [
    "res2 = vectorizer.fit_transform(df[df['rating_grade']==5]['text'])"
   ]
  },
  {
   "cell_type": "code",
   "execution_count": 67,
   "metadata": {},
   "outputs": [],
   "source": [
    "res3 = vec.fit_transform(df[df['rating_grade']==1]['text'])"
   ]
  },
  {
   "cell_type": "code",
   "execution_count": 68,
   "metadata": {},
   "outputs": [],
   "source": [
    "res4 = vectorizer.fit_transform(df[df['rating_grade']==1]['text'])"
   ]
  },
  {
   "cell_type": "markdown",
   "metadata": {},
   "source": [
    "Ключевые слова:"
   ]
  },
  {
   "cell_type": "code",
   "execution_count": 69,
   "metadata": {},
   "outputs": [
    {
     "data": {
      "text/plain": [
       "array(['аа', 'ааа', 'аааа', ..., 'ящук', 'яя', 'яяяяясненько'],\n",
       "      dtype=object)"
      ]
     },
     "execution_count": 69,
     "metadata": {},
     "output_type": "execute_result"
    }
   ],
   "source": [
    "vectorizer.get_feature_names_out()"
   ]
  },
  {
   "cell_type": "markdown",
   "metadata": {},
   "source": [
    "Биграммы:"
   ]
  },
  {
   "cell_type": "code",
   "execution_count": 70,
   "metadata": {},
   "outputs": [
    {
     "data": {
      "text/plain": [
       "array(['аа ааа', 'аа балета', 'аа борис', ..., 'ящичку среди',\n",
       "       'яя обратился', 'яяяяясненько высказал'], dtype=object)"
      ]
     },
     "execution_count": 70,
     "metadata": {},
     "output_type": "execute_result"
    }
   ],
   "source": [
    "vec.get_feature_names_out()"
   ]
  },
  {
   "cell_type": "markdown",
   "metadata": {},
   "source": [
    "## Тематическое моделирование"
   ]
  },
  {
   "cell_type": "code",
   "execution_count": 58,
   "metadata": {},
   "outputs": [],
   "source": [
    "from gensim.corpora import Dictionary\n",
    "from gensim.models import TfidfModel\n",
    "from gensim import similarities"
   ]
  },
  {
   "cell_type": "code",
   "execution_count": 71,
   "metadata": {},
   "outputs": [],
   "source": [
    "texts = [text.split() for text in df.text]\n",
    "dictionary = Dictionary(texts)\n",
    "corpus = [dictionary.doc2bow(text) for text in texts]"
   ]
  },
  {
   "cell_type": "markdown",
   "metadata": {},
   "source": [
    "**1. Постройте несколько тематических моделей коллекции документов с разным числом тем. Приведите примеры понятных (интерпретируемых) тем.**"
   ]
  },
  {
   "cell_type": "code",
   "execution_count": 72,
   "metadata": {},
   "outputs": [],
   "source": [
    "tfidf = TfidfModel(corpus)\n",
    "corpus_tfidf = tfidf[corpus]"
   ]
  },
  {
   "cell_type": "code",
   "execution_count": 74,
   "metadata": {},
   "outputs": [],
   "source": [
    "from gensim.models import lsimodel"
   ]
  },
  {
   "cell_type": "code",
   "execution_count": 75,
   "metadata": {},
   "outputs": [],
   "source": [
    "lsi = lsimodel.LsiModel(corpus=corpus_tfidf, id2word=dictionary, num_topics=5)"
   ]
  },
  {
   "cell_type": "code",
   "execution_count": 76,
   "metadata": {},
   "outputs": [
    {
     "data": {
      "text/plain": [
       "[(0,\n",
       "  '0.120*\"карту\" + 0.120*\"деньги\" + 0.117*\"карты\" + 0.106*\"кредит\" + 0.102*\"заявление\" + 0.093*\"банк\" + 0.091*\"банка\" + 0.087*\"г\" + 0.086*\"смс\" + 0.084*\"рублей\"'),\n",
       " (1,\n",
       "  '0.313*\"кредит\" + 0.206*\"кредита\" + 0.182*\"звонки\" + -0.174*\"карту\" + -0.164*\"карты\" + -0.154*\"банкомат\" + -0.129*\"деньги\" + -0.118*\"карта\" + -0.116*\"вклад\" + 0.104*\"кредиту\"'),\n",
       " (2,\n",
       "  '-0.273*\"вклад\" + -0.191*\"вклада\" + 0.166*\"руб\" + 0.157*\"банкомат\" + 0.146*\"заявление\" + 0.146*\"сбербанка\" + 0.126*\"рублей\" + -0.125*\"очереди\" + 0.112*\"карты\" + -0.111*\"минут\"'),\n",
       " (3,\n",
       "  '0.308*\"звонки\" + 0.294*\"номер\" + 0.196*\"телефона\" + -0.172*\"руб\" + 0.136*\"базы\" + 0.133*\"данных\" + 0.132*\"номера\" + -0.129*\"сумму\" + -0.128*\"кредита\" + 0.127*\"поступают\"'),\n",
       " (4,\n",
       "  '0.272*\"банкомат\" + 0.215*\"вклад\" + -0.202*\"карта\" + -0.199*\"карты\" + 0.190*\"вклада\" + 0.169*\"деньги\" + -0.154*\"карту\" + 0.132*\"киви\" + 0.127*\"персональных\" + 0.115*\"звонки\"')]"
      ]
     },
     "execution_count": 76,
     "metadata": {},
     "output_type": "execute_result"
    }
   ],
   "source": [
    "lsi.show_topics(5)"
   ]
  },
  {
   "cell_type": "code",
   "execution_count": 77,
   "metadata": {},
   "outputs": [],
   "source": [
    "lsi = lsimodel.LsiModel(corpus=corpus_tfidf, id2word=dictionary, num_topics=3)"
   ]
  },
  {
   "cell_type": "code",
   "execution_count": 78,
   "metadata": {},
   "outputs": [
    {
     "data": {
      "text/plain": [
       "[(0,\n",
       "  '0.120*\"деньги\" + 0.120*\"карту\" + 0.117*\"карты\" + 0.106*\"кредит\" + 0.103*\"заявление\" + 0.093*\"банк\" + 0.091*\"банка\" + 0.088*\"г\" + 0.086*\"смс\" + 0.084*\"рублей\"'),\n",
       " (1,\n",
       "  '0.271*\"кредит\" + 0.246*\"звонки\" + -0.183*\"вклад\" + 0.173*\"кредита\" + -0.147*\"карту\" + -0.138*\"карты\" + 0.131*\"номер\" + -0.130*\"вклада\" + -0.118*\"банкомат\" + -0.111*\"деньги\"'),\n",
       " (2,\n",
       "  '0.246*\"звонки\" + 0.185*\"номер\" + 0.183*\"вклад\" + -0.177*\"руб\" + 0.143*\"базы\" + 0.141*\"данных\" + -0.141*\"банкомат\" + 0.140*\"телефона\" + 0.138*\"персональных\" + 0.135*\"поступают\"')]"
      ]
     },
     "execution_count": 78,
     "metadata": {},
     "output_type": "execute_result"
    }
   ],
   "source": [
    "lsi.show_topics(3)"
   ]
  },
  {
   "cell_type": "markdown",
   "metadata": {},
   "source": [
    "Тема \"0.246*\"звонки\" + 0.185*\"номер\" + 0.183*\"вклад\" + -0.177*\"руб\" + 0.143*\"базы\" + 0.141*\"данных\" + -0.141*\"банкомат\" + 0.140*\"телефона\" + 0.138*\"персональных\" + 0.135*\"поступают\" понятна и интерпретируема - при использовании услуг банка и предоставления своего телефона (персональных данных) клиентам начинают поступать звонки. Вероятно, клиенты считают, что утечка данных идет из банка, где они открывали вклад или этот банк даже как-то плохо защищает свои базы данных"
   ]
  },
  {
   "cell_type": "markdown",
   "metadata": {},
   "source": [
    "**2. Найдите темы, в которых упомянуты конкретные банки (Сбербанк, ВТБ, другой банк). Можете ли вы их прокомментировать / объяснить?**"
   ]
  },
  {
   "cell_type": "markdown",
   "metadata": {},
   "source": [
    "'-0.273*\"вклад\" + -0.191*\"вклада\" + 0.166*\"руб\" + 0.157*\"банкомат\" + 0.146*\"заявление\" + 0.146*\"сбербанка\" + 0.126*\"рублей\" + -0.125*\"очереди\" + 0.112*\"карты\" + -0.111*\"минут\"'),"
   ]
  },
  {
   "cell_type": "markdown",
   "metadata": {},
   "source": [
    "Судя по всему речь идет о сложности открытия вклада в сбербанке, когда приходится подавать заявление физически, в итоге идут жалобы на очереди и перечисление, сколько минут было потрачено на это"
   ]
  },
  {
   "cell_type": "markdown",
   "metadata": {},
   "source": [
    "## Классификация текстов"
   ]
  },
  {
   "cell_type": "markdown",
   "metadata": {},
   "source": [
    "Сформулируем для простоты задачу бинарной классификации: будем классифицировать на два класса, то есть, различать резко отрицательные отзывы (с оценкой 1) и положительные отзывы (с оценкой 5)."
   ]
  },
  {
   "cell_type": "markdown",
   "metadata": {},
   "source": [
    "1. Составьте обучающее и тестовое множество: выберите из всего набора данных N1 отзывов с оценкой 1 и N2 отзывов с оценкой 5 (значение N1 и N2 – на ваше усмотрение). Используйте sklearn.model_selection.train_test_split для разделения множества отобранных документов на обучающее и тестовое."
   ]
  },
  {
   "cell_type": "code",
   "execution_count": 79,
   "metadata": {},
   "outputs": [],
   "source": [
    "from sklearn.model_selection import train_test_split"
   ]
  },
  {
   "cell_type": "code",
   "execution_count": 80,
   "metadata": {},
   "outputs": [
    {
     "data": {
      "text/html": [
       "<div>\n",
       "<style scoped>\n",
       "    .dataframe tbody tr th:only-of-type {\n",
       "        vertical-align: middle;\n",
       "    }\n",
       "\n",
       "    .dataframe tbody tr th {\n",
       "        vertical-align: top;\n",
       "    }\n",
       "\n",
       "    .dataframe thead th {\n",
       "        text-align: right;\n",
       "    }\n",
       "</style>\n",
       "<table border=\"1\" class=\"dataframe\">\n",
       "  <thead>\n",
       "    <tr style=\"text-align: right;\">\n",
       "      <th></th>\n",
       "      <th>city</th>\n",
       "      <th>rating_not_checked</th>\n",
       "      <th>title</th>\n",
       "      <th>num_comments</th>\n",
       "      <th>bank_license</th>\n",
       "      <th>author</th>\n",
       "      <th>bank_name</th>\n",
       "      <th>datetime</th>\n",
       "      <th>text</th>\n",
       "      <th>rating_grade</th>\n",
       "    </tr>\n",
       "  </thead>\n",
       "  <tbody>\n",
       "    <tr>\n",
       "      <th>98</th>\n",
       "      <td>г. Санкт-Петербург</td>\n",
       "      <td>False</td>\n",
       "      <td>Хорошо, когда проблемы решаются</td>\n",
       "      <td>0</td>\n",
       "      <td>лицензия № 1073</td>\n",
       "      <td>apka45</td>\n",
       "      <td>Русславбанк</td>\n",
       "      <td>2015-06-03 17:40:38</td>\n",
       "      <td>досрочно закрывали вклады отпуском жена заказы...</td>\n",
       "      <td>5.0</td>\n",
       "    </tr>\n",
       "    <tr>\n",
       "      <th>122</th>\n",
       "      <td>г. Нижний Новгород</td>\n",
       "      <td>False</td>\n",
       "      <td>Изменяют проценты по уже открытому договору вк...</td>\n",
       "      <td>3</td>\n",
       "      <td>лицензия № 226</td>\n",
       "      <td>20157673</td>\n",
       "      <td>РосинтерБанк</td>\n",
       "      <td>2015-06-04 09:38:18</td>\n",
       "      <td>хотел открыть вклад доходный год проценты начи...</td>\n",
       "      <td>5.0</td>\n",
       "    </tr>\n",
       "    <tr>\n",
       "      <th>157</th>\n",
       "      <td>г. Москва</td>\n",
       "      <td>False</td>\n",
       "      <td>Отделение Марксистская, дом 5: спасибо за помощь!</td>\n",
       "      <td>0</td>\n",
       "      <td>лицензия № 1623</td>\n",
       "      <td>ospar</td>\n",
       "      <td>ВТБ 24</td>\n",
       "      <td>2015-06-04 22:58:38</td>\n",
       "      <td>вчера июня просидев очереди х часов получение ...</td>\n",
       "      <td>5.0</td>\n",
       "    </tr>\n",
       "    <tr>\n",
       "      <th>259</th>\n",
       "      <td>г. Москва</td>\n",
       "      <td>False</td>\n",
       "      <td>Хорошее обслуживание</td>\n",
       "      <td>0</td>\n",
       "      <td>лицензия № 3206</td>\n",
       "      <td>ser-gyr</td>\n",
       "      <td>Соверен Банк</td>\n",
       "      <td>2015-06-02 18:23:41</td>\n",
       "      <td>сегодня открывал вклад банке очередь одного кл...</td>\n",
       "      <td>5.0</td>\n",
       "    </tr>\n",
       "    <tr>\n",
       "      <th>266</th>\n",
       "      <td>г. Москва</td>\n",
       "      <td>False</td>\n",
       "      <td>Моя история получения кредита в Ренессанс Кред...</td>\n",
       "      <td>1</td>\n",
       "      <td>лицензия № 3354</td>\n",
       "      <td>SkaIa</td>\n",
       "      <td>Ренессанс Кредит</td>\n",
       "      <td>2015-06-03 02:03:28</td>\n",
       "      <td>история получения кредита ренессанс кредит бан...</td>\n",
       "      <td>5.0</td>\n",
       "    </tr>\n",
       "    <tr>\n",
       "      <th>...</th>\n",
       "      <td>...</td>\n",
       "      <td>...</td>\n",
       "      <td>...</td>\n",
       "      <td>...</td>\n",
       "      <td>...</td>\n",
       "      <td>...</td>\n",
       "      <td>...</td>\n",
       "      <td>...</td>\n",
       "      <td>...</td>\n",
       "      <td>...</td>\n",
       "    </tr>\n",
       "    <tr>\n",
       "      <th>153488</th>\n",
       "      <td>None</td>\n",
       "      <td>False</td>\n",
       "      <td>Повысилось качество обслуживания</td>\n",
       "      <td>0</td>\n",
       "      <td>лицензия № 1623</td>\n",
       "      <td>Атмос</td>\n",
       "      <td>ВТБ 24</td>\n",
       "      <td>2005-04-13 12:00:00</td>\n",
       "      <td>пользуюсь банком месяца специально открыл счет...</td>\n",
       "      <td>5.0</td>\n",
       "    </tr>\n",
       "    <tr>\n",
       "      <th>153489</th>\n",
       "      <td>None</td>\n",
       "      <td>False</td>\n",
       "      <td>Стабильный банк с высокими процентами</td>\n",
       "      <td>0</td>\n",
       "      <td>лицензия № 1971</td>\n",
       "      <td>Александра</td>\n",
       "      <td>Ханты-Мансийский банк Открытие</td>\n",
       "      <td>2005-04-14 13:41:00</td>\n",
       "      <td>писать ставки вкладам высокие остатки картам в...</td>\n",
       "      <td>5.0</td>\n",
       "    </tr>\n",
       "    <tr>\n",
       "      <th>153491</th>\n",
       "      <td>None</td>\n",
       "      <td>False</td>\n",
       "      <td>Ну тогда копите денюжки и покупайте не в креди...</td>\n",
       "      <td>4</td>\n",
       "      <td>лицензия № 2289</td>\n",
       "      <td>irzik</td>\n",
       "      <td>Русский Стандарт</td>\n",
       "      <td>2005-04-14 17:42:00</td>\n",
       "      <td>мужем обставила техникой совершенно новую квар...</td>\n",
       "      <td>5.0</td>\n",
       "    </tr>\n",
       "    <tr>\n",
       "      <th>153494</th>\n",
       "      <td>None</td>\n",
       "      <td>False</td>\n",
       "      <td>Не все так страшно</td>\n",
       "      <td>0</td>\n",
       "      <td>лицензия № 2557</td>\n",
       "      <td>Вера</td>\n",
       "      <td>Ситибанк</td>\n",
       "      <td>2005-05-18 14:38:00</td>\n",
       "      <td>слишком большой банк учитывает нашу специфику ...</td>\n",
       "      <td>5.0</td>\n",
       "    </tr>\n",
       "    <tr>\n",
       "      <th>153498</th>\n",
       "      <td>None</td>\n",
       "      <td>False</td>\n",
       "      <td>Быстро и удобно</td>\n",
       "      <td>0</td>\n",
       "      <td>лицензия № 1326</td>\n",
       "      <td>Денис</td>\n",
       "      <td>Альфа-Банк</td>\n",
       "      <td>2005-04-13 17:43:00</td>\n",
       "      <td>коротко нравится кридит получать милое дело ан...</td>\n",
       "      <td>5.0</td>\n",
       "    </tr>\n",
       "  </tbody>\n",
       "</table>\n",
       "<p>14713 rows × 10 columns</p>\n",
       "</div>"
      ],
      "text/plain": [
       "                      city  rating_not_checked  \\\n",
       "98      г. Санкт-Петербург               False   \n",
       "122     г. Нижний Новгород               False   \n",
       "157              г. Москва               False   \n",
       "259              г. Москва               False   \n",
       "266              г. Москва               False   \n",
       "...                    ...                 ...   \n",
       "153488                None               False   \n",
       "153489                None               False   \n",
       "153491                None               False   \n",
       "153494                None               False   \n",
       "153498                None               False   \n",
       "\n",
       "                                                    title  num_comments  \\\n",
       "98                        Хорошо, когда проблемы решаются             0   \n",
       "122     Изменяют проценты по уже открытому договору вк...             3   \n",
       "157     Отделение Марксистская, дом 5: спасибо за помощь!             0   \n",
       "259                                  Хорошее обслуживание             0   \n",
       "266     Моя история получения кредита в Ренессанс Кред...             1   \n",
       "...                                                   ...           ...   \n",
       "153488                   Повысилось качество обслуживания             0   \n",
       "153489              Стабильный банк с высокими процентами             0   \n",
       "153491  Ну тогда копите денюжки и покупайте не в креди...             4   \n",
       "153494                                 Не все так страшно             0   \n",
       "153498                                    Быстро и удобно             0   \n",
       "\n",
       "           bank_license      author                       bank_name  \\\n",
       "98      лицензия № 1073      apka45                     Русславбанк   \n",
       "122      лицензия № 226    20157673                    РосинтерБанк   \n",
       "157     лицензия № 1623       ospar                          ВТБ 24   \n",
       "259     лицензия № 3206     ser-gyr                    Соверен Банк   \n",
       "266     лицензия № 3354       SkaIa                Ренессанс Кредит   \n",
       "...                 ...         ...                             ...   \n",
       "153488  лицензия № 1623       Атмос                          ВТБ 24   \n",
       "153489  лицензия № 1971  Александра  Ханты-Мансийский банк Открытие   \n",
       "153491  лицензия № 2289       irzik                Русский Стандарт   \n",
       "153494  лицензия № 2557        Вера                        Ситибанк   \n",
       "153498  лицензия № 1326       Денис                      Альфа-Банк   \n",
       "\n",
       "                   datetime  \\\n",
       "98      2015-06-03 17:40:38   \n",
       "122     2015-06-04 09:38:18   \n",
       "157     2015-06-04 22:58:38   \n",
       "259     2015-06-02 18:23:41   \n",
       "266     2015-06-03 02:03:28   \n",
       "...                     ...   \n",
       "153488  2005-04-13 12:00:00   \n",
       "153489  2005-04-14 13:41:00   \n",
       "153491  2005-04-14 17:42:00   \n",
       "153494  2005-05-18 14:38:00   \n",
       "153498  2005-04-13 17:43:00   \n",
       "\n",
       "                                                     text  rating_grade  \n",
       "98      досрочно закрывали вклады отпуском жена заказы...           5.0  \n",
       "122     хотел открыть вклад доходный год проценты начи...           5.0  \n",
       "157     вчера июня просидев очереди х часов получение ...           5.0  \n",
       "259     сегодня открывал вклад банке очередь одного кл...           5.0  \n",
       "266     история получения кредита ренессанс кредит бан...           5.0  \n",
       "...                                                   ...           ...  \n",
       "153488  пользуюсь банком месяца специально открыл счет...           5.0  \n",
       "153489  писать ставки вкладам высокие остатки картам в...           5.0  \n",
       "153491  мужем обставила техникой совершенно новую квар...           5.0  \n",
       "153494  слишком большой банк учитывает нашу специфику ...           5.0  \n",
       "153498  коротко нравится кридит получать милое дело ан...           5.0  \n",
       "\n",
       "[14713 rows x 10 columns]"
      ]
     },
     "execution_count": 80,
     "metadata": {},
     "output_type": "execute_result"
    }
   ],
   "source": [
    "df[df['rating_grade']==5]"
   ]
  },
  {
   "cell_type": "code",
   "execution_count": 82,
   "metadata": {},
   "outputs": [],
   "source": [
    "# N2 возьмем 10000\n",
    "good = df[df['rating_grade']==5][:10000].copy()"
   ]
  },
  {
   "cell_type": "code",
   "execution_count": 81,
   "metadata": {},
   "outputs": [
    {
     "data": {
      "text/html": [
       "<div>\n",
       "<style scoped>\n",
       "    .dataframe tbody tr th:only-of-type {\n",
       "        vertical-align: middle;\n",
       "    }\n",
       "\n",
       "    .dataframe tbody tr th {\n",
       "        vertical-align: top;\n",
       "    }\n",
       "\n",
       "    .dataframe thead th {\n",
       "        text-align: right;\n",
       "    }\n",
       "</style>\n",
       "<table border=\"1\" class=\"dataframe\">\n",
       "  <thead>\n",
       "    <tr style=\"text-align: right;\">\n",
       "      <th></th>\n",
       "      <th>city</th>\n",
       "      <th>rating_not_checked</th>\n",
       "      <th>title</th>\n",
       "      <th>num_comments</th>\n",
       "      <th>bank_license</th>\n",
       "      <th>author</th>\n",
       "      <th>bank_name</th>\n",
       "      <th>datetime</th>\n",
       "      <th>text</th>\n",
       "      <th>rating_grade</th>\n",
       "    </tr>\n",
       "  </thead>\n",
       "  <tbody>\n",
       "    <tr>\n",
       "      <th>19</th>\n",
       "      <td>г. Москва</td>\n",
       "      <td>False</td>\n",
       "      <td>Некомпетентность сотрудников банка</td>\n",
       "      <td>2</td>\n",
       "      <td>лицензия № 1481</td>\n",
       "      <td>agelun</td>\n",
       "      <td>Сбербанк России</td>\n",
       "      <td>2015-06-05 15:00:54</td>\n",
       "      <td>открыт вклад счет плюс этому зарплатная карта ...</td>\n",
       "      <td>1.0</td>\n",
       "    </tr>\n",
       "    <tr>\n",
       "      <th>33</th>\n",
       "      <td>г. Ростов-на-Дону</td>\n",
       "      <td>False</td>\n",
       "      <td>Навязывание страховки</td>\n",
       "      <td>1</td>\n",
       "      <td>лицензия № 1481</td>\n",
       "      <td>Joker888</td>\n",
       "      <td>Сбербанк России</td>\n",
       "      <td>2015-06-05 21:35:40</td>\n",
       "      <td>доброго времени вчера поступило смс уведомлени...</td>\n",
       "      <td>1.0</td>\n",
       "    </tr>\n",
       "    <tr>\n",
       "      <th>76</th>\n",
       "      <td>г. Санкт-Петербург</td>\n",
       "      <td>False</td>\n",
       "      <td>Нарушение договора банковского вклада</td>\n",
       "      <td>0</td>\n",
       "      <td>лицензия № 3006</td>\n",
       "      <td>qwarta45</td>\n",
       "      <td>АктивКапитал Банк</td>\n",
       "      <td>2015-06-06 23:42:39</td>\n",
       "      <td>г около часов пришел указанный офис намерением...</td>\n",
       "      <td>1.0</td>\n",
       "    </tr>\n",
       "    <tr>\n",
       "      <th>85</th>\n",
       "      <td>г. Москва</td>\n",
       "      <td>False</td>\n",
       "      <td>Невозможно оплатить отчисления на капремонт \"Т...</td>\n",
       "      <td>4</td>\n",
       "      <td>лицензия № 1481</td>\n",
       "      <td>721</td>\n",
       "      <td>Сбербанк России</td>\n",
       "      <td>2015-06-04 13:27:04</td>\n",
       "      <td>оплаты коммунальных платежей пользуюсь пластик...</td>\n",
       "      <td>1.0</td>\n",
       "    </tr>\n",
       "    <tr>\n",
       "      <th>94</th>\n",
       "      <td>г. Чапаевск</td>\n",
       "      <td>False</td>\n",
       "      <td>Некомпетентность сотрудника Сбербанка при пров...</td>\n",
       "      <td>16</td>\n",
       "      <td>лицензия № 1481</td>\n",
       "      <td>usmanovaket</td>\n",
       "      <td>Сбербанк России</td>\n",
       "      <td>2015-06-03 16:00:12</td>\n",
       "      <td>апреле года пришла отделение сбербанка г чапае...</td>\n",
       "      <td>1.0</td>\n",
       "    </tr>\n",
       "    <tr>\n",
       "      <th>...</th>\n",
       "      <td>...</td>\n",
       "      <td>...</td>\n",
       "      <td>...</td>\n",
       "      <td>...</td>\n",
       "      <td>...</td>\n",
       "      <td>...</td>\n",
       "      <td>...</td>\n",
       "      <td>...</td>\n",
       "      <td>...</td>\n",
       "      <td>...</td>\n",
       "    </tr>\n",
       "    <tr>\n",
       "      <th>153484</th>\n",
       "      <td>None</td>\n",
       "      <td>False</td>\n",
       "      <td>Долг за овердрафт</td>\n",
       "      <td>0</td>\n",
       "      <td>лицензия № 2557</td>\n",
       "      <td>Роман</td>\n",
       "      <td>Ситибанк</td>\n",
       "      <td>2005-04-13 21:06:00</td>\n",
       "      <td>должен овердрафт рублей карту активировал ужас...</td>\n",
       "      <td>1.0</td>\n",
       "    </tr>\n",
       "    <tr>\n",
       "      <th>153490</th>\n",
       "      <td>None</td>\n",
       "      <td>False</td>\n",
       "      <td>А судьи кто?</td>\n",
       "      <td>0</td>\n",
       "      <td>лицензия № 2557</td>\n",
       "      <td>Марина</td>\n",
       "      <td>Ситибанк</td>\n",
       "      <td>2005-04-13 22:17:00</td>\n",
       "      <td>ситуация разу воспользовавшись картой имею дол...</td>\n",
       "      <td>1.0</td>\n",
       "    </tr>\n",
       "    <tr>\n",
       "      <th>153493</th>\n",
       "      <td>None</td>\n",
       "      <td>False</td>\n",
       "      <td>Два конфликта с банком.</td>\n",
       "      <td>0</td>\n",
       "      <td>лицензия № 2771</td>\n",
       "      <td>Sam</td>\n",
       "      <td>Юниаструм Банк</td>\n",
       "      <td>2005-05-18 01:25:00</td>\n",
       "      <td>оформил банке кредитную карту январе г первый ...</td>\n",
       "      <td>1.0</td>\n",
       "    </tr>\n",
       "    <tr>\n",
       "      <th>153496</th>\n",
       "      <td>None</td>\n",
       "      <td>False</td>\n",
       "      <td>Филиал банка \"ОВК\" в г. Иваново</td>\n",
       "      <td>1</td>\n",
       "      <td>лицензия № 2272</td>\n",
       "      <td>AlexU-post</td>\n",
       "      <td>Росбанк</td>\n",
       "      <td>2005-04-08 14:07:00</td>\n",
       "      <td>уважаемое руководство банка овк проживаю г ива...</td>\n",
       "      <td>1.0</td>\n",
       "    </tr>\n",
       "    <tr>\n",
       "      <th>153497</th>\n",
       "      <td>None</td>\n",
       "      <td>False</td>\n",
       "      <td>В Альфа-Банк больше обращаться не буду.</td>\n",
       "      <td>0</td>\n",
       "      <td>лицензия № 1326</td>\n",
       "      <td>Ирина</td>\n",
       "      <td>Альфа-Банк</td>\n",
       "      <td>2005-04-14 15:16:00</td>\n",
       "      <td>пробовала оформить товар кредит альфа банке ко...</td>\n",
       "      <td>1.0</td>\n",
       "    </tr>\n",
       "  </tbody>\n",
       "</table>\n",
       "<p>47387 rows × 10 columns</p>\n",
       "</div>"
      ],
      "text/plain": [
       "                      city  rating_not_checked  \\\n",
       "19               г. Москва               False   \n",
       "33       г. Ростов-на-Дону               False   \n",
       "76      г. Санкт-Петербург               False   \n",
       "85               г. Москва               False   \n",
       "94             г. Чапаевск               False   \n",
       "...                    ...                 ...   \n",
       "153484                None               False   \n",
       "153490                None               False   \n",
       "153493                None               False   \n",
       "153496                None               False   \n",
       "153497                None               False   \n",
       "\n",
       "                                                    title  num_comments  \\\n",
       "19                     Некомпетентность сотрудников банка             2   \n",
       "33                                  Навязывание страховки             1   \n",
       "76                  Нарушение договора банковского вклада             0   \n",
       "85      Невозможно оплатить отчисления на капремонт \"Т...             4   \n",
       "94      Некомпетентность сотрудника Сбербанка при пров...            16   \n",
       "...                                                   ...           ...   \n",
       "153484                                  Долг за овердрафт             0   \n",
       "153490                                       А судьи кто?             0   \n",
       "153493                            Два конфликта с банком.             0   \n",
       "153496                    Филиал банка \"ОВК\" в г. Иваново             1   \n",
       "153497            В Альфа-Банк больше обращаться не буду.             0   \n",
       "\n",
       "           bank_license       author          bank_name             datetime  \\\n",
       "19      лицензия № 1481       agelun    Сбербанк России  2015-06-05 15:00:54   \n",
       "33      лицензия № 1481     Joker888    Сбербанк России  2015-06-05 21:35:40   \n",
       "76      лицензия № 3006     qwarta45  АктивКапитал Банк  2015-06-06 23:42:39   \n",
       "85      лицензия № 1481          721    Сбербанк России  2015-06-04 13:27:04   \n",
       "94      лицензия № 1481  usmanovaket    Сбербанк России  2015-06-03 16:00:12   \n",
       "...                 ...          ...                ...                  ...   \n",
       "153484  лицензия № 2557        Роман           Ситибанк  2005-04-13 21:06:00   \n",
       "153490  лицензия № 2557       Марина           Ситибанк  2005-04-13 22:17:00   \n",
       "153493  лицензия № 2771          Sam     Юниаструм Банк  2005-05-18 01:25:00   \n",
       "153496  лицензия № 2272   AlexU-post            Росбанк  2005-04-08 14:07:00   \n",
       "153497  лицензия № 1326        Ирина         Альфа-Банк  2005-04-14 15:16:00   \n",
       "\n",
       "                                                     text  rating_grade  \n",
       "19      открыт вклад счет плюс этому зарплатная карта ...           1.0  \n",
       "33      доброго времени вчера поступило смс уведомлени...           1.0  \n",
       "76      г около часов пришел указанный офис намерением...           1.0  \n",
       "85      оплаты коммунальных платежей пользуюсь пластик...           1.0  \n",
       "94      апреле года пришла отделение сбербанка г чапае...           1.0  \n",
       "...                                                   ...           ...  \n",
       "153484  должен овердрафт рублей карту активировал ужас...           1.0  \n",
       "153490  ситуация разу воспользовавшись картой имею дол...           1.0  \n",
       "153493  оформил банке кредитную карту январе г первый ...           1.0  \n",
       "153496  уважаемое руководство банка овк проживаю г ива...           1.0  \n",
       "153497  пробовала оформить товар кредит альфа банке ко...           1.0  \n",
       "\n",
       "[47387 rows x 10 columns]"
      ]
     },
     "execution_count": 81,
     "metadata": {},
     "output_type": "execute_result"
    }
   ],
   "source": [
    "df[df['rating_grade']==1]"
   ]
  },
  {
   "cell_type": "code",
   "execution_count": 83,
   "metadata": {},
   "outputs": [],
   "source": [
    "# N1 возьмем 40000\n",
    "bad = df[df['rating_grade']==1][:40000].copy()"
   ]
  },
  {
   "cell_type": "code",
   "execution_count": 88,
   "metadata": {},
   "outputs": [],
   "source": [
    "total = pd.concat([good, bad])"
   ]
  },
  {
   "cell_type": "code",
   "execution_count": 114,
   "metadata": {},
   "outputs": [],
   "source": [
    "X_train, X_test, y_train, y_test = train_test_split(total.text, total['rating_grade'], test_size=0.3)"
   ]
  },
  {
   "cell_type": "code",
   "execution_count": 93,
   "metadata": {},
   "outputs": [],
   "source": [
    "from sklearn.pipeline import Pipeline\n",
    "from sklearn.ensemble import RandomForestClassifier\n",
    "from sklearn.feature_extraction.text import CountVectorizer"
   ]
  },
  {
   "cell_type": "markdown",
   "metadata": {},
   "source": [
    "2. Используйте любой известный вам алгоритм классификации текстов для решения задачи и получите baseline. Сравните разные варианты векторизации текста: использование только униграм, пар или троек слов или с использованием символьных \n",
    "n-грам."
   ]
  },
  {
   "cell_type": "code",
   "execution_count": 117,
   "metadata": {},
   "outputs": [],
   "source": [
    "vectorizer = TfidfVectorizer()"
   ]
  },
  {
   "cell_type": "code",
   "execution_count": 119,
   "metadata": {},
   "outputs": [
    {
     "data": {
      "text/plain": [
       "TfidfVectorizer()"
      ]
     },
     "execution_count": 119,
     "metadata": {},
     "output_type": "execute_result"
    }
   ],
   "source": [
    "vectorizer.fit(X_train)"
   ]
  },
  {
   "cell_type": "code",
   "execution_count": 122,
   "metadata": {},
   "outputs": [],
   "source": [
    "res_tfidf = vectorizer.transform(X_train.tolist())"
   ]
  },
  {
   "cell_type": "code",
   "execution_count": 123,
   "metadata": {},
   "outputs": [],
   "source": [
    "baseline = RandomForestClassifier()"
   ]
  },
  {
   "cell_type": "code",
   "execution_count": 124,
   "metadata": {},
   "outputs": [
    {
     "data": {
      "text/plain": [
       "RandomForestClassifier()"
      ]
     },
     "execution_count": 124,
     "metadata": {},
     "output_type": "execute_result"
    }
   ],
   "source": [
    "baseline.fit(res_tfidf, y_train)"
   ]
  },
  {
   "cell_type": "code",
   "execution_count": 125,
   "metadata": {},
   "outputs": [],
   "source": [
    "X_test_tfidf = vectorizer.transform(X_test.tolist())"
   ]
  },
  {
   "cell_type": "code",
   "execution_count": 126,
   "metadata": {},
   "outputs": [],
   "source": [
    "y_pred = baseline.predict(X_test_tfidf)"
   ]
  },
  {
   "cell_type": "code",
   "execution_count": 127,
   "metadata": {},
   "outputs": [],
   "source": [
    "from sklearn.metrics import classification_report"
   ]
  },
  {
   "cell_type": "code",
   "execution_count": 128,
   "metadata": {},
   "outputs": [
    {
     "name": "stdout",
     "output_type": "stream",
     "text": [
      "              precision    recall  f1-score   support\n",
      "\n",
      "         1.0       0.91      1.00      0.95     12034\n",
      "         5.0       1.00      0.61      0.75      2966\n",
      "\n",
      "    accuracy                           0.92     15000\n",
      "   macro avg       0.95      0.80      0.85     15000\n",
      "weighted avg       0.93      0.92      0.91     15000\n",
      "\n"
     ]
    }
   ],
   "source": [
    "print(classification_report(y_test, y_pred))"
   ]
  },
  {
   "cell_type": "markdown",
   "metadata": {},
   "source": [
    "**3. Сравните, как изменяется качество решения задачи при использовании скрытых тем в качестве признаков**"
   ]
  },
  {
   "cell_type": "code",
   "execution_count": 129,
   "metadata": {
    "id": "bUSukDrwqauS",
    "outputId": "d50fc19f-0306-4d6b-f14d-101196431d81"
   },
   "outputs": [],
   "source": [
    "from sklearn.feature_extraction.text import TfidfTransformer\n",
    "from sklearn.decomposition import TruncatedSVD\n",
    "\n",
    "# !!! На каждом этапе Pipeline нужно указать свои параметры\n",
    "# 1-ый вариант: tf-idf + LSI\n",
    "# 2-ой вариант: LDA\n",
    "\n",
    "# clf = Pipeline([\n",
    "#     ('vect', CountVectorizer(analyzer = 'char', ngram_range={4,6})),\n",
    "#     ('clf', RandomForestClassifier()),\n",
    "# ])\n",
    "\n",
    "\n",
    "\n",
    "clf = Pipeline([ \n",
    "    ('vect', CountVectorizer()), \n",
    "    ('tfidf', TfidfTransformer()), \n",
    "    ('tm', TruncatedSVD()), \n",
    "    ('clf', RandomForestClassifier())\n",
    "])\n"
   ]
  },
  {
   "cell_type": "code",
   "execution_count": 130,
   "metadata": {},
   "outputs": [
    {
     "data": {
      "text/plain": [
       "Pipeline(steps=[('vect', CountVectorizer()), ('tfidf', TfidfTransformer()),\n",
       "                ('tm', TruncatedSVD()), ('clf', RandomForestClassifier())])"
      ]
     },
     "execution_count": 130,
     "metadata": {},
     "output_type": "execute_result"
    }
   ],
   "source": [
    "clf.fit(X_train, y_train)"
   ]
  },
  {
   "cell_type": "code",
   "execution_count": 131,
   "metadata": {},
   "outputs": [],
   "source": [
    "y_pred2 = clf.predict(X_test)"
   ]
  },
  {
   "cell_type": "code",
   "execution_count": 132,
   "metadata": {},
   "outputs": [
    {
     "name": "stdout",
     "output_type": "stream",
     "text": [
      "              precision    recall  f1-score   support\n",
      "\n",
      "         1.0       0.83      0.93      0.88     12034\n",
      "         5.0       0.46      0.24      0.32      2966\n",
      "\n",
      "    accuracy                           0.79     15000\n",
      "   macro avg       0.65      0.59      0.60     15000\n",
      "weighted avg       0.76      0.79      0.77     15000\n",
      "\n"
     ]
    }
   ],
   "source": [
    "print(classification_report(y_test, y_pred2))"
   ]
  },
  {
   "cell_type": "markdown",
   "metadata": {},
   "source": [
    "Качество, при использовании 1-го варианта (tf-idf преобразования и сингулярного разложения) в итоге ухудшилось, т.к. accuracy и f1-score ниже"
   ]
  },
  {
   "cell_type": "code",
   "execution_count": null,
   "metadata": {},
   "outputs": [],
   "source": []
  }
 ],
 "metadata": {
  "colab": {
   "collapsed_sections": [],
   "name": "HW1_banki_TM-and-classification.ipynb",
   "provenance": []
  },
  "kernelspec": {
   "display_name": "Python 3 (ipykernel)",
   "language": "python",
   "name": "python3"
  },
  "language_info": {
   "codemirror_mode": {
    "name": "ipython",
    "version": 3
   },
   "file_extension": ".py",
   "mimetype": "text/x-python",
   "name": "python",
   "nbconvert_exporter": "python",
   "pygments_lexer": "ipython3",
   "version": "3.9.12"
  }
 },
 "nbformat": 4,
 "nbformat_minor": 1
}
